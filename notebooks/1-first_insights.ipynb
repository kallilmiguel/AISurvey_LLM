{
 "cells": [
  {
   "cell_type": "markdown",
   "metadata": {},
   "source": [
    "## Importing Libraries\n",
    "The first cells of the notebook import several necessary libraries for the code to function. The imported libraries are:\n",
    "- `os`: To interact with the operating system.\n",
    "- `requests`: To make HTTP requests.\n",
    "- `dotenv`: To load environment variables from a `.env` file.\n",
    "- `BeautifulSoup`: To parse HTML.\n",
    "- `IPython.display`: To display content in the notebook.\n",
    "- `openai`: To interact with the OpenAI API"
   ]
  },
  {
   "cell_type": "code",
   "execution_count": 1,
   "metadata": {},
   "outputs": [],
   "source": [
    "import os\n",
    "import requests\n",
    "from dotenv import load_dotenv\n",
    "from bs4 import BeautifulSoup\n",
    "from IPython.display import Markdown, display\n",
    "from openai import OpenAI"
   ]
  },
  {
   "cell_type": "markdown",
   "metadata": {},
   "source": [
    "## Loading Environment Variables\n",
    "The function `load_dotenv(override=True)` loads the environment variables defined in a `.env` file. This is useful for storing sensitive information, such as API keys, outside of the source code.\n",
    "\n",
    "## Checking the API Key\n",
    "The code checks if the OpenAI API key was loaded correctly:\n",
    "- If the key is not found, an error message is displayed.\n",
    "- If the key does not start with `sk-proj-`, an error message is displayed.\n",
    "- If the key contains spaces or tabs at the beginning or end, an error message is displayed.\n",
    "- If the key is correct, a success message is displayed.\n",
    "\n",
    "## Initializing OpenAI\n",
    "Finally, the `openai` library is initialized so it can be used later in the notebook."
   ]
  },
  {
   "cell_type": "code",
   "execution_count": 2,
   "metadata": {},
   "outputs": [
    {
     "name": "stdout",
     "output_type": "stream",
     "text": [
      "API key found and looks good so far!\n"
     ]
    }
   ],
   "source": [
    "# Load environment variables in a file called .env\n",
    "\n",
    "load_dotenv(override=True)\n",
    "api_key = os.getenv('OPENAI_API_KEY')\n",
    "\n",
    "# Check the key\n",
    "\n",
    "if not api_key:\n",
    "    print(\"No API key was found - please head over to the troubleshooting notebook in this folder to identify & fix!\")\n",
    "elif not api_key.startswith(\"sk-proj-\"):\n",
    "    print(\"An API key was found, but it doesn't start sk-proj-; please check you're using the right key - see troubleshooting notebook\")\n",
    "elif api_key.strip() != api_key:\n",
    "    print(\"An API key was found, but it looks like it might have space or tab characters at the start or end - please remove them - see troubleshooting notebook\")\n",
    "else:\n",
    "    print(\"API key found and looks good so far!\")\n",
    "\n",
    "openai = OpenAI()\n"
   ]
  },
  {
   "cell_type": "markdown",
   "metadata": {},
   "source": [
    "Let us send a message to the model, specifying a predefined instruction for it to follow"
   ]
  },
  {
   "cell_type": "code",
   "execution_count": 11,
   "metadata": {},
   "outputs": [
    {
     "name": "stdout",
     "output_type": "stream",
     "text": [
      "BAZINGA\n"
     ]
    }
   ],
   "source": [
    "message = \"Hello, GPT! My name is Kallil, a Ph.D student from USP!\"\n",
    "response = openai.chat.completions.create(model=\"gpt-4o-mini\", messages=[\n",
    "    {\"role\": \"system\", \"content\": \"You must not say anything except BAZINGA\"},\n",
    "    {\"role\":\"user\", \"content\":message}\n",
    "    ]\n",
    ")\n",
    "print(response.choices[0].message.content)"
   ]
  },
  {
   "cell_type": "markdown",
   "id": "ea211b5f-28e1-4a86-8e52-c0b7677cadcc",
   "metadata": {},
   "source": [
    "## Messages\n",
    "\n",
    "The API from OpenAI expects to receive messages in a particular structure.\n",
    "Many of the other APIs share this structure:\n",
    "\n",
    "```\n",
    "[\n",
    "    {\"role\": \"system\", \"content\": \"system message goes here\"},\n",
    "    {\"role\": \"user\", \"content\": \"user message goes here\"}\n",
    "]\n"
   ]
  },
  {
   "cell_type": "markdown",
   "metadata": {},
   "source": []
  }
 ],
 "metadata": {
  "kernelspec": {
   "display_name": "llms",
   "language": "python",
   "name": "python3"
  },
  "language_info": {
   "codemirror_mode": {
    "name": "ipython",
    "version": 3
   },
   "file_extension": ".py",
   "mimetype": "text/x-python",
   "name": "python",
   "nbconvert_exporter": "python",
   "pygments_lexer": "ipython3",
   "version": "3.12.8"
  },
  "orig_nbformat": 4
 },
 "nbformat": 4,
 "nbformat_minor": 2
}
